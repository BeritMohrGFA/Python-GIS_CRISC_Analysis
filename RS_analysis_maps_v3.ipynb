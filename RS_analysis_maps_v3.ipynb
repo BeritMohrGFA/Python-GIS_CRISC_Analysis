{
 "cells": [
  {
   "cell_type": "code",
   "execution_count": 64,
   "id": "25584dea",
   "metadata": {},
   "outputs": [],
   "source": [
    "import geopandas as gpd\n",
    "import json\n",
    "import numpy as np\n",
    "import seaborn as sns\n",
    "import matplotlib.pyplot as plt\n",
    "import os\n",
    "import shapefile\n",
    "import geemap, ee \n",
    "# import ee \n",
    "# import geemap.eefolium as geemap\n",
    "# COMMENT: folium for datapane; otherwise call regular geemap as it runs with better functionality (ipyleaflet)"
   ]
  },
  {
   "cell_type": "code",
   "execution_count": 65,
   "id": "855f4e04",
   "metadata": {},
   "outputs": [],
   "source": [
    "try:\n",
    "        ee.Initialize()\n",
    "except Exception as e:\n",
    "        ee.Authenticate()\n",
    "        ee.Initialize()"
   ]
  },
  {
   "cell_type": "code",
   "execution_count": 66,
   "id": "20dd067e",
   "metadata": {},
   "outputs": [],
   "source": [
    "# Set path to wd\n",
    "path = os.path.join(\"/\",\"Users\",\"MT\",\"Nextcloud\",\"Projects\",\"GOV-BGD20GIZ7333_CRISC_AI\")"
   ]
  },
  {
   "cell_type": "code",
   "execution_count": 84,
   "id": "tropical-corrections",
   "metadata": {},
   "outputs": [],
   "source": [
    "shp_path = os.path.join(path,\"CRISC_RS\",\"bgd_adm_bbs_20201113_SHP\",\"bgd_admbnda_adm3_bbs_20201113.shp\")\n",
    "gdf = gpd.read_file(shp_path, crs='EPSG:4326')"
   ]
  },
  {
   "cell_type": "code",
   "execution_count": 87,
   "id": "apparent-syndication",
   "metadata": {},
   "outputs": [
    {
     "data": {
      "text/html": [
       "<div>\n",
       "<style scoped>\n",
       "    .dataframe tbody tr th:only-of-type {\n",
       "        vertical-align: middle;\n",
       "    }\n",
       "\n",
       "    .dataframe tbody tr th {\n",
       "        vertical-align: top;\n",
       "    }\n",
       "\n",
       "    .dataframe thead th {\n",
       "        text-align: right;\n",
       "    }\n",
       "</style>\n",
       "<table border=\"1\" class=\"dataframe\">\n",
       "  <thead>\n",
       "    <tr style=\"text-align: right;\">\n",
       "      <th></th>\n",
       "      <th>Shape_Leng</th>\n",
       "      <th>Shape_Area</th>\n",
       "      <th>ADM3_EN</th>\n",
       "      <th>ADM3_PCODE</th>\n",
       "      <th>ADM3_REF</th>\n",
       "      <th>ADM3ALT1EN</th>\n",
       "      <th>ADM3ALT2EN</th>\n",
       "      <th>ADM2_EN</th>\n",
       "      <th>ADM2_PCODE</th>\n",
       "      <th>ADM1_EN</th>\n",
       "      <th>ADM1_PCODE</th>\n",
       "      <th>ADM0_EN</th>\n",
       "      <th>ADM0_PCODE</th>\n",
       "      <th>date</th>\n",
       "      <th>validOn</th>\n",
       "      <th>validTo</th>\n",
       "      <th>geometry</th>\n",
       "    </tr>\n",
       "  </thead>\n",
       "  <tbody>\n",
       "    <tr>\n",
       "      <th>0</th>\n",
       "      <td>1.171879</td>\n",
       "      <td>0.021753</td>\n",
       "      <td>Abhaynagar</td>\n",
       "      <td>BD404104</td>\n",
       "      <td>None</td>\n",
       "      <td>None</td>\n",
       "      <td>None</td>\n",
       "      <td>Jessore</td>\n",
       "      <td>BD4041</td>\n",
       "      <td>Khulna</td>\n",
       "      <td>BD40</td>\n",
       "      <td>Bangladesh</td>\n",
       "      <td>BD</td>\n",
       "      <td>2015-01-01</td>\n",
       "      <td>2020-11-13</td>\n",
       "      <td>None</td>\n",
       "      <td>POLYGON ((89.44292 23.10798, 89.44288 23.10777...</td>\n",
       "    </tr>\n",
       "    <tr>\n",
       "      <th>1</th>\n",
       "      <td>0.068860</td>\n",
       "      <td>0.000203</td>\n",
       "      <td>Adabor</td>\n",
       "      <td>BD302602</td>\n",
       "      <td>None</td>\n",
       "      <td>None</td>\n",
       "      <td>None</td>\n",
       "      <td>Dhaka</td>\n",
       "      <td>BD3026</td>\n",
       "      <td>Dhaka</td>\n",
       "      <td>BD30</td>\n",
       "      <td>Bangladesh</td>\n",
       "      <td>BD</td>\n",
       "      <td>2015-01-01</td>\n",
       "      <td>2020-11-13</td>\n",
       "      <td>None</td>\n",
       "      <td>POLYGON ((90.35181 23.77788, 90.35201 23.77785...</td>\n",
       "    </tr>\n",
       "    <tr>\n",
       "      <th>2</th>\n",
       "      <td>1.233722</td>\n",
       "      <td>0.015457</td>\n",
       "      <td>Adamdighi</td>\n",
       "      <td>BD501006</td>\n",
       "      <td>None</td>\n",
       "      <td>None</td>\n",
       "      <td>None</td>\n",
       "      <td>Bogra</td>\n",
       "      <td>BD5010</td>\n",
       "      <td>Rajshahi</td>\n",
       "      <td>BD50</td>\n",
       "      <td>Bangladesh</td>\n",
       "      <td>BD</td>\n",
       "      <td>2015-01-01</td>\n",
       "      <td>2020-11-13</td>\n",
       "      <td>None</td>\n",
       "      <td>POLYGON ((89.08198 24.87312, 89.08235 24.87305...</td>\n",
       "    </tr>\n",
       "    <tr>\n",
       "      <th>3</th>\n",
       "      <td>1.032025</td>\n",
       "      <td>0.017815</td>\n",
       "      <td>Aditmari</td>\n",
       "      <td>BD555202</td>\n",
       "      <td>None</td>\n",
       "      <td>None</td>\n",
       "      <td>None</td>\n",
       "      <td>Lalmonirhat</td>\n",
       "      <td>BD5552</td>\n",
       "      <td>Rangpur</td>\n",
       "      <td>BD55</td>\n",
       "      <td>Bangladesh</td>\n",
       "      <td>BD</td>\n",
       "      <td>2015-01-01</td>\n",
       "      <td>2020-11-13</td>\n",
       "      <td>None</td>\n",
       "      <td>MULTIPOLYGON (((89.42583 26.04433, 89.42939 26...</td>\n",
       "    </tr>\n",
       "    <tr>\n",
       "      <th>4</th>\n",
       "      <td>0.687378</td>\n",
       "      <td>0.013744</td>\n",
       "      <td>Agailjhara</td>\n",
       "      <td>BD100602</td>\n",
       "      <td>None</td>\n",
       "      <td>None</td>\n",
       "      <td>None</td>\n",
       "      <td>Barisal</td>\n",
       "      <td>BD1006</td>\n",
       "      <td>Barisal</td>\n",
       "      <td>BD10</td>\n",
       "      <td>Bangladesh</td>\n",
       "      <td>BD</td>\n",
       "      <td>2015-01-01</td>\n",
       "      <td>2020-11-13</td>\n",
       "      <td>None</td>\n",
       "      <td>POLYGON ((90.17736 23.04662, 90.17753 23.04661...</td>\n",
       "    </tr>\n",
       "    <tr>\n",
       "      <th>...</th>\n",
       "      <td>...</td>\n",
       "      <td>...</td>\n",
       "      <td>...</td>\n",
       "      <td>...</td>\n",
       "      <td>...</td>\n",
       "      <td>...</td>\n",
       "      <td>...</td>\n",
       "      <td>...</td>\n",
       "      <td>...</td>\n",
       "      <td>...</td>\n",
       "      <td>...</td>\n",
       "      <td>...</td>\n",
       "      <td>...</td>\n",
       "      <td>...</td>\n",
       "      <td>...</td>\n",
       "      <td>...</td>\n",
       "      <td>...</td>\n",
       "    </tr>\n",
       "    <tr>\n",
       "      <th>539</th>\n",
       "      <td>0.152158</td>\n",
       "      <td>0.000621</td>\n",
       "      <td>Uttara</td>\n",
       "      <td>BD302695</td>\n",
       "      <td>None</td>\n",
       "      <td>None</td>\n",
       "      <td>None</td>\n",
       "      <td>Dhaka</td>\n",
       "      <td>BD3026</td>\n",
       "      <td>Dhaka</td>\n",
       "      <td>BD30</td>\n",
       "      <td>Bangladesh</td>\n",
       "      <td>BD</td>\n",
       "      <td>2015-01-01</td>\n",
       "      <td>2020-11-13</td>\n",
       "      <td>None</td>\n",
       "      <td>POLYGON ((90.38476 23.89490, 90.38476 23.89490...</td>\n",
       "    </tr>\n",
       "    <tr>\n",
       "      <th>540</th>\n",
       "      <td>1.102709</td>\n",
       "      <td>0.022191</td>\n",
       "      <td>Wazirpur</td>\n",
       "      <td>BD100694</td>\n",
       "      <td>None</td>\n",
       "      <td>None</td>\n",
       "      <td>None</td>\n",
       "      <td>Barisal</td>\n",
       "      <td>BD1006</td>\n",
       "      <td>Barisal</td>\n",
       "      <td>BD10</td>\n",
       "      <td>Bangladesh</td>\n",
       "      <td>BD</td>\n",
       "      <td>2015-01-01</td>\n",
       "      <td>2020-11-13</td>\n",
       "      <td>None</td>\n",
       "      <td>POLYGON ((90.03673 22.93440, 90.03690 22.93439...</td>\n",
       "    </tr>\n",
       "    <tr>\n",
       "      <th>541</th>\n",
       "      <td>1.048280</td>\n",
       "      <td>0.023558</td>\n",
       "      <td>Zakiganj</td>\n",
       "      <td>BD609194</td>\n",
       "      <td>None</td>\n",
       "      <td>None</td>\n",
       "      <td>None</td>\n",
       "      <td>Sylhet</td>\n",
       "      <td>BD6091</td>\n",
       "      <td>Sylhet</td>\n",
       "      <td>BD60</td>\n",
       "      <td>Bangladesh</td>\n",
       "      <td>BD</td>\n",
       "      <td>2015-01-01</td>\n",
       "      <td>2020-11-13</td>\n",
       "      <td>None</td>\n",
       "      <td>POLYGON ((92.39664 24.98883, 92.39687 24.98882...</td>\n",
       "    </tr>\n",
       "    <tr>\n",
       "      <th>542</th>\n",
       "      <td>0.913345</td>\n",
       "      <td>0.022822</td>\n",
       "      <td>Zanjira</td>\n",
       "      <td>BD308694</td>\n",
       "      <td>None</td>\n",
       "      <td>None</td>\n",
       "      <td>None</td>\n",
       "      <td>Shariatpur</td>\n",
       "      <td>BD3086</td>\n",
       "      <td>Dhaka</td>\n",
       "      <td>BD30</td>\n",
       "      <td>Bangladesh</td>\n",
       "      <td>BD</td>\n",
       "      <td>2015-01-01</td>\n",
       "      <td>2020-11-13</td>\n",
       "      <td>None</td>\n",
       "      <td>POLYGON ((90.30197 23.45155, 90.30219 23.45150...</td>\n",
       "    </tr>\n",
       "    <tr>\n",
       "      <th>543</th>\n",
       "      <td>0.688667</td>\n",
       "      <td>0.008837</td>\n",
       "      <td>Zianagar</td>\n",
       "      <td>BD107990</td>\n",
       "      <td>None</td>\n",
       "      <td>None</td>\n",
       "      <td>None</td>\n",
       "      <td>Pirojpur</td>\n",
       "      <td>BD1079</td>\n",
       "      <td>Barisal</td>\n",
       "      <td>BD10</td>\n",
       "      <td>Bangladesh</td>\n",
       "      <td>BD</td>\n",
       "      <td>2015-01-01</td>\n",
       "      <td>2020-11-13</td>\n",
       "      <td>None</td>\n",
       "      <td>POLYGON ((89.94921 22.54047, 89.94929 22.54045...</td>\n",
       "    </tr>\n",
       "  </tbody>\n",
       "</table>\n",
       "<p>544 rows × 17 columns</p>\n",
       "</div>"
      ],
      "text/plain": [
       "     Shape_Leng  Shape_Area     ADM3_EN ADM3_PCODE ADM3_REF ADM3ALT1EN  \\\n",
       "0      1.171879    0.021753  Abhaynagar   BD404104     None       None   \n",
       "1      0.068860    0.000203      Adabor   BD302602     None       None   \n",
       "2      1.233722    0.015457   Adamdighi   BD501006     None       None   \n",
       "3      1.032025    0.017815    Aditmari   BD555202     None       None   \n",
       "4      0.687378    0.013744  Agailjhara   BD100602     None       None   \n",
       "..          ...         ...         ...        ...      ...        ...   \n",
       "539    0.152158    0.000621      Uttara   BD302695     None       None   \n",
       "540    1.102709    0.022191    Wazirpur   BD100694     None       None   \n",
       "541    1.048280    0.023558    Zakiganj   BD609194     None       None   \n",
       "542    0.913345    0.022822     Zanjira   BD308694     None       None   \n",
       "543    0.688667    0.008837    Zianagar   BD107990     None       None   \n",
       "\n",
       "    ADM3ALT2EN      ADM2_EN ADM2_PCODE   ADM1_EN ADM1_PCODE     ADM0_EN  \\\n",
       "0         None      Jessore     BD4041    Khulna       BD40  Bangladesh   \n",
       "1         None        Dhaka     BD3026     Dhaka       BD30  Bangladesh   \n",
       "2         None        Bogra     BD5010  Rajshahi       BD50  Bangladesh   \n",
       "3         None  Lalmonirhat     BD5552   Rangpur       BD55  Bangladesh   \n",
       "4         None      Barisal     BD1006   Barisal       BD10  Bangladesh   \n",
       "..         ...          ...        ...       ...        ...         ...   \n",
       "539       None        Dhaka     BD3026     Dhaka       BD30  Bangladesh   \n",
       "540       None      Barisal     BD1006   Barisal       BD10  Bangladesh   \n",
       "541       None       Sylhet     BD6091    Sylhet       BD60  Bangladesh   \n",
       "542       None   Shariatpur     BD3086     Dhaka       BD30  Bangladesh   \n",
       "543       None     Pirojpur     BD1079   Barisal       BD10  Bangladesh   \n",
       "\n",
       "    ADM0_PCODE        date     validOn validTo  \\\n",
       "0           BD  2015-01-01  2020-11-13    None   \n",
       "1           BD  2015-01-01  2020-11-13    None   \n",
       "2           BD  2015-01-01  2020-11-13    None   \n",
       "3           BD  2015-01-01  2020-11-13    None   \n",
       "4           BD  2015-01-01  2020-11-13    None   \n",
       "..         ...         ...         ...     ...   \n",
       "539         BD  2015-01-01  2020-11-13    None   \n",
       "540         BD  2015-01-01  2020-11-13    None   \n",
       "541         BD  2015-01-01  2020-11-13    None   \n",
       "542         BD  2015-01-01  2020-11-13    None   \n",
       "543         BD  2015-01-01  2020-11-13    None   \n",
       "\n",
       "                                              geometry  \n",
       "0    POLYGON ((89.44292 23.10798, 89.44288 23.10777...  \n",
       "1    POLYGON ((90.35181 23.77788, 90.35201 23.77785...  \n",
       "2    POLYGON ((89.08198 24.87312, 89.08235 24.87305...  \n",
       "3    MULTIPOLYGON (((89.42583 26.04433, 89.42939 26...  \n",
       "4    POLYGON ((90.17736 23.04662, 90.17753 23.04661...  \n",
       "..                                                 ...  \n",
       "539  POLYGON ((90.38476 23.89490, 90.38476 23.89490...  \n",
       "540  POLYGON ((90.03673 22.93440, 90.03690 22.93439...  \n",
       "541  POLYGON ((92.39664 24.98883, 92.39687 24.98882...  \n",
       "542  POLYGON ((90.30197 23.45155, 90.30219 23.45150...  \n",
       "543  POLYGON ((89.94921 22.54047, 89.94929 22.54045...  \n",
       "\n",
       "[544 rows x 17 columns]"
      ]
     },
     "execution_count": 87,
     "metadata": {},
     "output_type": "execute_result"
    }
   ],
   "source": [
    "gdf"
   ]
  },
  {
   "cell_type": "code",
   "execution_count": 89,
   "id": "seeing-construction",
   "metadata": {},
   "outputs": [
    {
     "data": {
      "text/plain": [
       "Shape_Leng                                             1.406242\n",
       "Shape_Area                                             0.027997\n",
       "ADM3_EN                                         Sirajganj Sadar\n",
       "ADM3_PCODE                                             BD508878\n",
       "ADM3_REF                                                   None\n",
       "ADM3ALT1EN                                                 None\n",
       "ADM3ALT2EN                                                 None\n",
       "ADM2_EN                                               Sirajganj\n",
       "ADM2_PCODE                                               BD5088\n",
       "ADM1_EN                                                Rajshahi\n",
       "ADM1_PCODE                                                 BD50\n",
       "ADM0_EN                                              Bangladesh\n",
       "ADM0_PCODE                                                   BD\n",
       "date                                                 2015-01-01\n",
       "validOn                                              2020-11-13\n",
       "validTo                                                    None\n",
       "geometry      POLYGON ((89.60992755300003 24.61325163900005,...\n",
       "Name: 496, dtype: object"
      ]
     },
     "execution_count": 89,
     "metadata": {},
     "output_type": "execute_result"
    }
   ],
   "source": [
    "x = gdf.iloc[496,:]\n",
    "x"
   ]
  },
  {
   "cell_type": "code",
   "execution_count": 67,
   "id": "22d7d351",
   "metadata": {},
   "outputs": [],
   "source": [
    "# helper function: lookup shp index by city/levell geodataframe format, ee object construct\n",
    "def shp_to_ee_fmt(city, level):\n",
    "    dic = {'Satkhira':{2:56,3:469,4:4307},'Sirajganj':{2:59,3:496,4:4493}}\n",
    "    ind = dic[city][level]\n",
    "    shp_path = os.path.join(path,\"CRISC_RS\",\"bgd_adm_bbs_20201113_SHP\",\"bgd_admbnda_adm\"+str(level)+\"_bbs_20201113.shp\")\n",
    "    gdf = gpd.read_file(shp_path, crs='EPSG:4326')\n",
    "    x = gdf.iloc[ind:ind+1,:]\n",
    "    data = json.loads(x.to_json())\n",
    "    return data['features'][0]['geometry']['coordinates']\n",
    "\n",
    "# Source shp: https://data.humdata.org/dataset/administrative-boundaries-of-bangladesh-as-of-2015\n",
    "\n",
    "# Histogram function\n",
    "def histo(dist, band, bins, city, level):\n",
    "    aoi = ee.Geometry.MultiPolygon(shp_to_ee_fmt(city = city, level = level))\n",
    "    arr = np.array(dist.sampleRectangle(region=aoi).get(band).getInfo())\n",
    "    data = arr.flatten()\n",
    "    fig, ax = plt.subplots(figsize=(15,5))\n",
    "    sns.histplot(data, bins=bins,ax=ax)\n",
    "    plt.title('Distribution: '+city, fontsize=20)\n",
    "    \n",
    "# UPPR feature collection: Sirajganj\n",
    "# shp_to_ee without geemap\n",
    "def ng_shp_to_ee(shp):\n",
    "    shp_path = os.path.join(path,\"CRISC_RS\",\"All\",shp)\n",
    "    in_gdf = gpd.read_file(shp_path)\n",
    "    out_gdf = in_gdf.to_crs(epsg=\"4326\")\n",
    "    out_shp = shp_path.replace(\".shp\", \"_gcs.shp\")\n",
    "    out_gdf.to_file(out_shp)\n",
    "    in_shp = out_shp\n",
    "    reader = shapefile.Reader(in_shp)\n",
    "    out_dict = reader.__geo_interface__\n",
    "    out_ee = ee.FeatureCollection(out_dict[\"features\"])\n",
    "    return out_ee\n",
    "#uppr = geemap.shp_to_ee(shp_path)"
   ]
  },
  {
   "cell_type": "code",
   "execution_count": 68,
   "id": "b331e2a9",
   "metadata": {},
   "outputs": [],
   "source": [
    "uppr_set = ng_shp_to_ee(\"Poor_settlement_without_single.shp\")\n",
    "uppr_land = ng_shp_to_ee(\"Vacant_lands.shp\")\n",
    "uppr_single = ng_shp_to_ee(\"Single_settlement_point.shp\")"
   ]
  },
  {
   "cell_type": "code",
   "execution_count": 69,
   "id": "2c53f088",
   "metadata": {},
   "outputs": [],
   "source": [
    "# UPPR feature collection: Sirajganj\n",
    "# shp_to_ee without geemap\n",
    "import shapefile\n",
    "shp_path = os.path.join(path,\"CRISC_RS\",\"All\",\"Poor_settlement_without_single.shp\")\n",
    "in_gdf = gpd.read_file(shp_path)\n",
    "out_gdf = in_gdf.to_crs(epsg=\"4326\")\n",
    "out_shp = shp_path.replace(\".shp\", \"_gcs.shp\")\n",
    "out_gdf.to_file(out_shp)\n",
    "in_shp = out_shp\n",
    "reader = shapefile.Reader(in_shp)\n",
    "out_dict = reader.__geo_interface__\n",
    "uppr_set = ee.FeatureCollection(out_dict[\"features\"])\n",
    "#uppr = geemap.shp_to_ee(shp_path)"
   ]
  },
  {
   "cell_type": "code",
   "execution_count": 71,
   "id": "d0a3762b",
   "metadata": {},
   "outputs": [],
   "source": [
    "viirs = ee.Image(ee.ImageCollection(\"NOAA/VIIRS/DNB/MONTHLY_V1/VCMSLCFG\").filterDate(\"2019-01-01\",\"2019-12-31\").median().select('avg_rad'))"
   ]
  },
  {
   "cell_type": "code",
   "execution_count": 72,
   "id": "2ea240cf",
   "metadata": {},
   "outputs": [],
   "source": [
    "srtm = ee.Image(\"CGIAR/SRTM90_V4\").select('elevation')\n",
    "srtmVis = {'min':-1, 'max':14,'palette':['#f7fcfd','#e5f5f9','#ccece6','#99d8c9','#66c2a4','#41ae76','#238b45','#005824']}"
   ]
  },
  {
   "cell_type": "code",
   "execution_count": 73,
   "id": "683a1e11",
   "metadata": {},
   "outputs": [],
   "source": [
    "water = ee.Image(\"JRC/GSW1_3/GlobalSurfaceWater\").select('occurrence')\n",
    "waterVis= {\"min\":0, \"max\":50,\"palette\":['lightblue', 'blue'], \"bands\":\"occurrence\"}"
   ]
  },
  {
   "cell_type": "code",
   "execution_count": 74,
   "id": "d133a5c4",
   "metadata": {},
   "outputs": [],
   "source": [
    "ghslSet = ee.ImageCollection('JRC/GHSL/P2016/SMOD_POP_GLOBE_V1').filter(ee.Filter.date('2015-01-01', '2015-12-31')).select('smod_code').median();\n",
    "ghslSetVis= {\"min\":0.0, \"max\":3.0,\"palette\":['000000', '448564', '70daa4', 'ffffff']}"
   ]
  },
  {
   "cell_type": "code",
   "execution_count": 75,
   "id": "4b0d3cf6",
   "metadata": {},
   "outputs": [],
   "source": [
    "ghslPop = ee.ImageCollection(\"JRC/GHSL/P2016/POP_GPW_GLOBE_V1\").filter(ee.Filter.date('2015-01-01', '2015-12-31')).select('population_count').median();\n",
    "ghslPopVis= {\"min\":0.0, \"max\":5000.0,\"palette\":['000000', '448564', '70daa4', 'ffffff']}"
   ]
  },
  {
   "cell_type": "code",
   "execution_count": 76,
   "id": "85cec530",
   "metadata": {},
   "outputs": [],
   "source": [
    "# Flowminder Poverty Predictions based on mobile data (https://royalsocietypublishing.org/doi/full/10.1098/rsif.2016.0690)\n",
    "# 2011 estimates of mean DHS wealth index score per grid square \n",
    "pov_wi = ee.Image('users/marktyrrell111/bgd2011wipov')\n",
    "# 2013 estimates of income in USD per grid square \n",
    "pov_inc = ee.Image('users/marktyrrell111/bgd2013incpov')\n",
    "# 013 estimates of mean likelihood of living in poverty per grid square, as defined by $2.50 a day poverty line\n",
    "pov_prop = ee.Image('users/marktyrrell111/bgd2013ppipov')"
   ]
  },
  {
   "cell_type": "code",
   "execution_count": 77,
   "id": "forty-sleeve",
   "metadata": {},
   "outputs": [],
   "source": [
    "HydSHED = ee.Image(\"WWF/HydroSHEDS/03DIR\")\n",
    "HydSHEDVis = {'min':1, 'max':128, 'palette': [\n",
    "    '000000', '023858', '006837', '1a9850', '66bd63', 'a6d96a', 'd9ef8b',\n",
    "    'ffffbf', 'fee08b', 'fdae61', 'f46d43', 'd73027'\n",
    "  ]}"
   ]
  },
  {
   "cell_type": "code",
   "execution_count": 78,
   "id": "95dd4375",
   "metadata": {
    "scrolled": false
   },
   "outputs": [
    {
     "data": {
      "image/png": "[encoded data removed]",
      "text/plain": [
       "<Figure size 1080x360 with 1 Axes>"
      ]
     },
     "metadata": {
      "needs_background": "light"
     },
     "output_type": "display_data"
    }
   ],
   "source": [
    "histo(dist = HydSHED, band = 'b1', bins = 50, city = 'Satkhira', level = 4 )"
   ]
  },
  {
   "cell_type": "code",
   "execution_count": 80,
   "id": "6fa0d27b",
   "metadata": {
    "scrolled": true
   },
   "outputs": [
    {
     "data": {
      "application/vnd.jupyter.widget-view+json": {
       "model_id": "c91773b5186c4d87bd44f6c205c690f3",
       "version_major": 2,
       "version_minor": 0
      },
      "text/plain": [
       "Map(center=[24.4941068587996, 89.68848003563551], controls=(WidgetControl(options=['position', 'transparent_bg…"
      ]
     },
     "metadata": {},
     "output_type": "display_data"
    }
   ],
   "source": [
    "#AOI: Satkhira District (Khulna Division)\n",
    "aoi = ee.Geometry.MultiPolygon(shp_to_ee_fmt(city = 'Sirajganj', level = 3))\n",
    "\n",
    "# initialize the map\n",
    "map1 = geemap.Map()\n",
    "map1.centerObject(aoi, 13)\n",
    "map1.addLayer(HydSHED.clip(aoi), HydSHEDVis, 'test', opacity=0.5)\n",
    "#map1.addLayer(viirs.clip(aoi), {}, \"VIIRS-DNB Nightlights\", opacity=0.1)\n",
    "#map1.addLayer(ghslSet.clip(aoi), ghslSetVis, 'GHSL Degree of Urbanization', opacity=0.5)\n",
    "#map1.addLayer(ghslPop.clip(aoi), ghslPopVis, 'GHSL Population', opacity=0.5)\n",
    "#map1.addLayer(srtm.clip(aoi), {'min':-1, 'max':14}, 'SRTM Elevation', opacity = 0.6)\n",
    "#map1.addLayer(water.clip(aoi), waterVis, 'JRC Water Prevalence', opacity = 0.6)\n",
    "map1.addLayer(pov_inc.clip(aoi), {'min':130, 'max':200, \"palette\":['red', 'yellow']}, \"BD Poverty: Income\", opacity=0.6)\n",
    "map1.addLayer(pov_wi.clip(aoi), {'min':-0.2, 'max':1.2, \"palette\":['red', 'yellow']}, \"BD cPoverty: Wealth Index\", opacity=0.6)\n",
    "map1.addLayerControl()\n",
    "map1"
   ]
  },
  {
   "cell_type": "code",
   "execution_count": 81,
   "id": "e3dc9d3b",
   "metadata": {},
   "outputs": [],
   "source": [
    "# Extract relevant polygons by class\n",
    "p1 = uppr_set.filterMetadata('Pov_Quart','equals','Extremely Poor')\n",
    "p2 = uppr_set.filterMetadata('Pov_Quart','equals','Marginally poor')\n",
    "p3 = uppr_set.filterMetadata('Pov_Quart','equals','Moderately Poor')\n",
    "p4 = uppr_set.filterMetadata('Pov_Quart','equals','Very Poor')"
   ]
  },
  {
   "cell_type": "code",
   "execution_count": 82,
   "id": "f74e9dd6",
   "metadata": {
    "scrolled": true
   },
   "outputs": [
    {
     "data": {
      "application/vnd.jupyter.widget-view+json": {
       "model_id": "02f410181d8a4886b54393db7646d1c6",
       "version_major": 2,
       "version_minor": 0
      },
      "text/plain": [
       "Map(center=[24.4561, 89.7039], controls=(WidgetControl(options=['position', 'transparent_bg'], widget=HBox(chi…"
      ]
     },
     "metadata": {},
     "output_type": "display_data"
    }
   ],
   "source": [
    "# SIRAJGANJ UPPR\n",
    "map3 = geemap.Map(add_google_map = False)\n",
    "map3.setCenter(lat = 24.4561, lon = 89.7039, zoom = 14)\n",
    "#vis_params.update({\"fillColor\": \"E30B17AA\"})\n",
    "vis_params = {\n",
    "    'color': '000000', \n",
    "    'pointSize': 1,\n",
    "    'pointShape': 'circle',\n",
    "    'width': 0.5,\n",
    "            'lineType': 'solid',\n",
    "}\n",
    "#Extremely Poor\n",
    "vis_params.update({\"fillColor\": \"E30B17AA\"})\n",
    "map3.addLayer(p1.style(**vis_params), vis_params, 'UPPR: Extremely Poor')\n",
    "#Marginally poor\n",
    "vis_params.update({\"fillColor\": \"CCCCCCAA\"})\n",
    "map3.addLayer(p2.style(**vis_params), vis_params, 'UPPR: Marginally Poor')\n",
    "#Moderately Poor\n",
    "vis_params.update({\"fillColor\": \"FEEAC0AA\"})\n",
    "map3.addLayer(p3.style(**vis_params), vis_params, 'UPPR: Moderately Poor')\n",
    "#Very Poor\n",
    "vis_params.update({\"fillColor\": \"FDA883AA\"})\n",
    "map3.addLayer(p4.style(**vis_params), vis_params, 'UPPR: Very Poor')\n",
    "vis_params.update({\"fillColor\": \"729b6fAA\"})\n",
    "map3.addLayer(uppr_land.style(**vis_params), vis_params, 'UPPR: Vacant Land')\n",
    "map3.addLayer(uppr_single, {'color': 'blue',}, 'UPPR: Single Poor HH')\n",
    "map3.addLayer(HydSHED.clip(aoi), HydSHEDVis, 'HydroSHEDS: Drainage Direction', opacity=0.5)\n",
    "map3"
   ]
  },
  {
   "cell_type": "markdown",
   "id": "49696fda",
   "metadata": {},
   "source": [
    "## Layers\n",
    "* Google maps (comparison with OSM)\n",
    "* VIIRS Nightlights Average Radiance 2019 median (approx. 500m resolution; B&W scale from dark to light indicating higher luminance)\n",
    "* GHSL Settlements Classification 2015 (1Km resolution)\n",
    "    - Black: Inhabited areas\n",
    "    - Dark Green: RUR (rural grid cells)\n",
    "    - Light Green: LDC (low density clusters)\n",
    "    - White: HDC (high density clusters)\n",
    "*\tGHSL Population Estimations 2015 (250m resolution with scale from dark to light colours indicating higher population)\n",
    "*\tSRTM Elevation (90m resolution; B&W scale from dark to light indicating higher elevation values)\n",
    "*\tJRC Water surface levels: Occurrence 1984-1999, 2000-2020 (30m resolution; scale from light to dark blue indicating higher water prevalence; no colour = water never detected)\n",
    "* Flowminder Bangladesh poverty estimates (2011-2013) by 1km grid (https://royalsocietypublishing.org/doi/full/10.1098/rsif.2016.0690)\n"
   ]
  },
  {
   "cell_type": "code",
   "execution_count": 18,
   "id": "1e5e2674",
   "metadata": {
    "scrolled": true
   },
   "outputs": [
    {
     "name": "stdout",
     "output_type": "stream",
     "text": [
      "\u001b[32mConnected successfully to https://datapane.com as mtyrrell\u001b[0m\n"
     ]
    },
    {
     "data": {
      "text/plain": [
       "'mtyrrell'"
      ]
     },
     "execution_count": 18,
     "metadata": {},
     "output_type": "execute_result"
    }
   ],
   "source": [
    "import datapane as dp\n",
    "dp.login(token='2b8de896fc86c1d7b568474c553dca773dc3c606')"
   ]
  },
  {
   "cell_type": "code",
   "execution_count": 19,
   "id": "199e3c4a",
   "metadata": {
    "scrolled": false
   },
   "outputs": [
    {
     "data": {
      "text/markdown": [
       "Publishing document and associated data - *please wait...*"
      ],
      "text/plain": [
       "<IPython.core.display.Markdown object>"
      ]
     },
     "metadata": {},
     "output_type": "display_data"
    },
    {
     "data": {
      "text/markdown": [
       "Your report doesn't contain any text - did you know you can add text to your report from your browser once published?"
      ],
      "text/plain": [
       "<IPython.core.display.Markdown object>"
      ]
     },
     "metadata": {},
     "output_type": "display_data"
    },
    {
     "data": {
      "text/markdown": [
       "Your report only contains a single element - did you know you can add multiple plots and tables to a report, add text to it and export directly to Medium once published?"
      ],
      "text/plain": [
       "<IPython.core.display.Markdown object>"
      ]
     },
     "metadata": {},
     "output_type": "display_data"
    },
    {
     "data": {
      "text/markdown": [
       "Report successfully published at https://datapane.com/u/mtyrrell/reports/sirajgang-municipal-uppr/ - you can edit and add additional text online"
      ],
      "text/plain": [
       "<IPython.core.display.Markdown object>"
      ]
     },
     "metadata": {},
     "output_type": "display_data"
    }
   ],
   "source": [
    "map3.publish(name='Sirajgang Municipal: UPPR ', description='Sirajganj GAUL Level 3 URBAN PARTNERSHIPS FOR POVERTY REDUCTION Poverty Assessments', visibility='PUBLIC')"
   ]
  },
  {
   "cell_type": "markdown",
   "id": "176d7f30",
   "metadata": {},
   "source": [
    "## TITLE\n",
    "* Poverty Estimations: Quartile distribution. Source: Urban Partnerships for Poverty Reduction (UPPR) Project (Single layer for each classification)\n",
    "    - RED: Extremely poor\n",
    "    - PINK: Very poor\n",
    "    - YELLOW: Moderately poor\n",
    "    - GRAY: Marginally poor"
   ]
  },
  {
   "cell_type": "code",
   "execution_count": 133,
   "id": "a862c044",
   "metadata": {},
   "outputs": [
    {
     "data": {
      "image/png": "[encoded data removed]",
      "text/plain": [
       "<Figure size 1080x360 with 1 Axes>"
      ]
     },
     "metadata": {
      "needs_background": "light"
     },
     "output_type": "display_data"
    }
   ],
   "source": [
    "histo(dist = pov_wi, band = 'b1', bins = 50, city = 'Sirajganj', level = 4 )"
   ]
  },
  {
   "cell_type": "code",
   "execution_count": 21,
   "id": "09afc22b",
   "metadata": {
    "scrolled": true
   },
   "outputs": [
    {
     "data": {
      "text/html": [
       "<div style=\"width:100%;\"><div style=\"position:relative;width:100%;height:0;padding-bottom:60%;\"><span style=\"color:#565656\">Make this Notebook Trusted to load map: File -> Trust Notebook</span><iframe src=\"about:blank\" style=\"position:absolute;width:100%;height:100%;left:0;top:0;border:none !important;\" data-html=%3C%21DOCTYPE%20html%3E%0A%3Chead%3E%20%20%20%20%0A%20%20%20%20%3Cmeta%20http-equiv%3D%22content-type%22%20content%3D%22text/html%3B%20charset%3DUTF-8%22%20/%3E%0A%20%20%20%20%0A%20%20%20%20%20%20%20%20%3Cscript%3E%0A%20%20%20%20%20%20%20%20%20%20%20%20L_NO_TOUCH%20%3D%20false%3B%0A%20%20%20%20%20%20%20%20%20%20%20%20L_DISABLE_3D%20%3D%20false%3B%0A%20%20%20%20%20%20%20%20%3C/script%3E%0A%20%20%20%20%0A%20%20%20%20%3Cstyle%3Ehtml%2C%20body%20%7Bwidth%3A%20100%25%3Bheight%3A%20100%25%3Bmargin%3A%200%3Bpadding%3A%200%3B%7D%3C/style%3E%0A%20%20%20%20%3Cstyle%3E%23map%20%7Bposition%3Aabsolute%3Btop%3A0%3Bbottom%3A0%3Bright%3A0%3Bleft%3A0%3B%7D%3C/style%3E%0A%20%20%20%20%3Cscript%20src%3D%22https%3A//cdn.jsdelivr.net/npm/leaflet%401.6.0/dist/leaflet.js%22%3E%3C/script%3E%0A%20%20%20%20%3Cscript%20src%3D%22https%3A//code.jquery.com/jquery-1.12.4.min.js%22%3E%3C/script%3E%0A%20%20%20%20%3Cscript%20src%3D%22https%3A//maxcdn.bootstrapcdn.com/bootstrap/3.2.0/js/bootstrap.min.js%22%3E%3C/script%3E%0A%20%20%20%20%3Cscript%20src%3D%22https%3A//cdnjs.cloudflare.com/ajax/libs/Leaflet.awesome-markers/2.0.2/leaflet.awesome-markers.js%22%3E%3C/script%3E%0A%20%20%20%20%3Clink%20rel%3D%22stylesheet%22%20href%3D%22https%3A//cdn.jsdelivr.net/npm/leaflet%401.6.0/dist/leaflet.css%22/%3E%0A%20%20%20%20%3Clink%20rel%3D%22stylesheet%22%20href%3D%22https%3A//maxcdn.bootstrapcdn.com/bootstrap/3.2.0/css/bootstrap.min.css%22/%3E%0A%20%20%20%20%3Clink%20rel%3D%22stylesheet%22%20href%3D%22https%3A//maxcdn.bootstrapcdn.com/bootstrap/3.2.0/css/bootstrap-theme.min.css%22/%3E%0A%20%20%20%20%3Clink%20rel%3D%22stylesheet%22%20href%3D%22https%3A//maxcdn.bootstrapcdn.com/font-awesome/4.6.3/css/font-awesome.min.css%22/%3E%0A%20%20%20%20%3Clink%20rel%3D%22stylesheet%22%20href%3D%22https%3A//cdnjs.cloudflare.com/ajax/libs/Leaflet.awesome-markers/2.0.2/leaflet.awesome-markers.css%22/%3E%0A%20%20%20%20%3Clink%20rel%3D%22stylesheet%22%20href%3D%22https%3A//cdn.jsdelivr.net/gh/python-visualization/folium/folium/templates/leaflet.awesome.rotate.min.css%22/%3E%0A%20%20%20%20%0A%20%20%20%20%20%20%20%20%20%20%20%20%3Cmeta%20name%3D%22viewport%22%20content%3D%22width%3Ddevice-width%2C%0A%20%20%20%20%20%20%20%20%20%20%20%20%20%20%20%20initial-scale%3D1.0%2C%20maximum-scale%3D1.0%2C%20user-scalable%3Dno%22%20/%3E%0A%20%20%20%20%20%20%20%20%20%20%20%20%3Cstyle%3E%0A%20%20%20%20%20%20%20%20%20%20%20%20%20%20%20%20%23map_26cf519a2da54c1eb96db91fbad68641%20%7B%0A%20%20%20%20%20%20%20%20%20%20%20%20%20%20%20%20%20%20%20%20position%3A%20relative%3B%0A%20%20%20%20%20%20%20%20%20%20%20%20%20%20%20%20%20%20%20%20width%3A%20100.0%25%3B%0A%20%20%20%20%20%20%20%20%20%20%20%20%20%20%20%20%20%20%20%20height%3A%20100.0%25%3B%0A%20%20%20%20%20%20%20%20%20%20%20%20%20%20%20%20%20%20%20%20left%3A%200.0%25%3B%0A%20%20%20%20%20%20%20%20%20%20%20%20%20%20%20%20%20%20%20%20top%3A%200.0%25%3B%0A%20%20%20%20%20%20%20%20%20%20%20%20%20%20%20%20%7D%0A%20%20%20%20%20%20%20%20%20%20%20%20%3C/style%3E%0A%20%20%20%20%20%20%20%20%0A%20%20%20%20%3Cscript%20src%3D%22https%3A//cdnjs.cloudflare.com/ajax/libs/leaflet.fullscreen/1.4.2/Control.FullScreen.min.js%22%3E%3C/script%3E%0A%20%20%20%20%3Clink%20rel%3D%22stylesheet%22%20href%3D%22https%3A//cdnjs.cloudflare.com/ajax/libs/leaflet.fullscreen/1.4.2/Control.FullScreen.min.css%22/%3E%0A%3C/head%3E%0A%3Cbody%3E%20%20%20%20%0A%20%20%20%20%0A%20%20%20%20%20%20%20%20%20%20%20%20%3Cdiv%20class%3D%22folium-map%22%20id%3D%22map_26cf519a2da54c1eb96db91fbad68641%22%20%3E%3C/div%3E%0A%20%20%20%20%20%20%20%20%0A%3C/body%3E%0A%3Cscript%3E%20%20%20%20%0A%20%20%20%20%0A%20%20%20%20%20%20%20%20%20%20%20%20var%20map_26cf519a2da54c1eb96db91fbad68641%20%3D%20L.map%28%0A%20%20%20%20%20%20%20%20%20%20%20%20%20%20%20%20%22map_26cf519a2da54c1eb96db91fbad68641%22%2C%0A%20%20%20%20%20%20%20%20%20%20%20%20%20%20%20%20%7B%0A%20%20%20%20%20%20%20%20%20%20%20%20%20%20%20%20%20%20%20%20center%3A%20%5B40.0%2C%20-100.0%5D%2C%0A%20%20%20%20%20%20%20%20%20%20%20%20%20%20%20%20%20%20%20%20crs%3A%20L.CRS.EPSG3857%2C%0A%20%20%20%20%20%20%20%20%20%20%20%20%20%20%20%20%20%20%20%20zoom%3A%204%2C%0A%20%20%20%20%20%20%20%20%20%20%20%20%20%20%20%20%20%20%20%20zoomControl%3A%20true%2C%0A%20%20%20%20%20%20%20%20%20%20%20%20%20%20%20%20%20%20%20%20preferCanvas%3A%20false%2C%0A%20%20%20%20%20%20%20%20%20%20%20%20%20%20%20%20%20%20%20%20eeInitialize%3A%20true%2C%0A%20%20%20%20%20%20%20%20%20%20%20%20%20%20%20%20%20%20%20%20addGoogleMap%3A%20true%2C%0A%20%20%20%20%20%20%20%20%20%20%20%20%20%20%20%20%20%20%20%20pluginLatlngpopup%3A%20true%2C%0A%20%20%20%20%20%20%20%20%20%20%20%20%20%20%20%20%20%20%20%20pluginFullscreen%3A%20true%2C%0A%20%20%20%20%20%20%20%20%20%20%20%20%20%20%20%20%20%20%20%20pluginDraw%3A%20false%2C%0A%20%20%20%20%20%20%20%20%20%20%20%20%20%20%20%20%20%20%20%20DrawExport%3A%20true%2C%0A%20%20%20%20%20%20%20%20%20%20%20%20%20%20%20%20%20%20%20%20pluginMinimap%3A%20false%2C%0A%20%20%20%20%20%20%20%20%20%20%20%20%20%20%20%20%20%20%20%20pluginLayercontrol%3A%20false%2C%0A%20%20%20%20%20%20%20%20%20%20%20%20%20%20%20%20%7D%0A%20%20%20%20%20%20%20%20%20%20%20%20%29%3B%0A%0A%20%20%20%20%20%20%20%20%20%20%20%20%0A%0A%20%20%20%20%20%20%20%20%0A%20%20%20%20%0A%20%20%20%20%20%20%20%20%20%20%20%20var%20tile_layer_9ed3e4b0275a41ee9e09088f744f48d0%20%3D%20L.tileLayer%28%0A%20%20%20%20%20%20%20%20%20%20%20%20%20%20%20%20%22https%3A//%7Bs%7D.tile.openstreetmap.org/%7Bz%7D/%7Bx%7D/%7By%7D.png%22%2C%0A%20%20%20%20%20%20%20%20%20%20%20%20%20%20%20%20%7B%22attribution%22%3A%20%22Data%20by%20%5Cu0026copy%3B%20%5Cu003ca%20href%3D%5C%22http%3A//openstreetmap.org%5C%22%5Cu003eOpenStreetMap%5Cu003c/a%5Cu003e%2C%20under%20%5Cu003ca%20href%3D%5C%22http%3A//www.openstreetmap.org/copyright%5C%22%5Cu003eODbL%5Cu003c/a%5Cu003e.%22%2C%20%22detectRetina%22%3A%20false%2C%20%22maxNativeZoom%22%3A%2018%2C%20%22maxZoom%22%3A%2018%2C%20%22minZoom%22%3A%200%2C%20%22noWrap%22%3A%20false%2C%20%22opacity%22%3A%201%2C%20%22subdomains%22%3A%20%22abc%22%2C%20%22tms%22%3A%20false%7D%0A%20%20%20%20%20%20%20%20%20%20%20%20%29.addTo%28map_26cf519a2da54c1eb96db91fbad68641%29%3B%0A%20%20%20%20%20%20%20%20%0A%20%20%20%20%0A%20%20%20%20%20%20%20%20%20%20%20%20var%20tile_layer_bf2b73ddf15f4ebf94c4facc30df7107%20%3D%20L.tileLayer%28%0A%20%20%20%20%20%20%20%20%20%20%20%20%20%20%20%20%22https%3A//mt1.google.com/vt/lyrs%3Dm%5Cu0026x%3D%7Bx%7D%5Cu0026y%3D%7By%7D%5Cu0026z%3D%7Bz%7D%22%2C%0A%20%20%20%20%20%20%20%20%20%20%20%20%20%20%20%20%7B%22attribution%22%3A%20%22Google%22%2C%20%22detectRetina%22%3A%20false%2C%20%22maxNativeZoom%22%3A%2018%2C%20%22maxZoom%22%3A%2018%2C%20%22minZoom%22%3A%200%2C%20%22noWrap%22%3A%20false%2C%20%22opacity%22%3A%201%2C%20%22subdomains%22%3A%20%22abc%22%2C%20%22tms%22%3A%20false%7D%0A%20%20%20%20%20%20%20%20%20%20%20%20%29.addTo%28map_26cf519a2da54c1eb96db91fbad68641%29%3B%0A%20%20%20%20%20%20%20%20%0A%20%20%20%20%0A%20%20%20%20%20%20%20%20%20%20%20%20%20%20%20%20var%20lat_lng_popup_37703ae203ea4dd89d9acc5501e39dcb%20%3D%20L.popup%28%29%3B%0A%20%20%20%20%20%20%20%20%20%20%20%20%20%20%20%20function%20latLngPop%28e%29%20%7B%0A%20%20%20%20%20%20%20%20%20%20%20%20%20%20%20%20%20%20%20%20lat_lng_popup_37703ae203ea4dd89d9acc5501e39dcb%0A%20%20%20%20%20%20%20%20%20%20%20%20%20%20%20%20%20%20%20%20%20%20%20%20.setLatLng%28e.latlng%29%0A%20%20%20%20%20%20%20%20%20%20%20%20%20%20%20%20%20%20%20%20%20%20%20%20.setContent%28%22Latitude%3A%20%22%20%2B%20e.latlng.lat.toFixed%284%29%20%2B%0A%20%20%20%20%20%20%20%20%20%20%20%20%20%20%20%20%20%20%20%20%20%20%20%20%20%20%20%20%20%20%20%20%20%20%20%20%22%3Cbr%3ELongitude%3A%20%22%20%2B%20e.latlng.lng.toFixed%284%29%29%0A%20%20%20%20%20%20%20%20%20%20%20%20%20%20%20%20%20%20%20%20%20%20%20%20.openOn%28map_26cf519a2da54c1eb96db91fbad68641%29%3B%0A%20%20%20%20%20%20%20%20%20%20%20%20%20%20%20%20%20%20%20%20%7D%0A%20%20%20%20%20%20%20%20%20%20%20%20%20%20%20%20map_26cf519a2da54c1eb96db91fbad68641.on%28%27click%27%2C%20latLngPop%29%3B%0A%20%20%20%20%20%20%20%20%20%20%20%20%0A%20%20%20%20%0A%20%20%20%20%20%20%20%20%20%20%20%20L.control.fullscreen%28%0A%20%20%20%20%20%20%20%20%20%20%20%20%20%20%20%20%7B%22forceSeparateButton%22%3A%20false%2C%20%22position%22%3A%20%22topleft%22%2C%20%22title%22%3A%20%22Full%20Screen%22%2C%20%22titleCancel%22%3A%20%22Exit%20Full%20Screen%22%7D%0A%20%20%20%20%20%20%20%20%20%20%20%20%29.addTo%28map_26cf519a2da54c1eb96db91fbad68641%29%3B%0A%20%20%20%20%20%20%20%20%0A%20%20%20%20%0A%20%20%20%20%20%20%20%20%20%20%20%20map_26cf519a2da54c1eb96db91fbad68641.fitBounds%28%0A%20%20%20%20%20%20%20%20%20%20%20%20%20%20%20%20%5B%5B40%2C%20-100%5D%2C%20%5B40%2C%20-100%5D%5D%2C%0A%20%20%20%20%20%20%20%20%20%20%20%20%20%20%20%20%7B%22maxZoom%22%3A%204%7D%0A%20%20%20%20%20%20%20%20%20%20%20%20%29%3B%0A%20%20%20%20%20%20%20%20%0A%20%20%20%20%0A%20%20%20%20%20%20%20%20%20%20%20%20map_26cf519a2da54c1eb96db91fbad68641.fitBounds%28%0A%20%20%20%20%20%20%20%20%20%20%20%20%20%20%20%20%5B%5B24.4941068587996%2C%2089.68848003563551%5D%2C%20%5B24.4941068587996%2C%2089.68848003563551%5D%5D%2C%0A%20%20%20%20%20%20%20%20%20%20%20%20%20%20%20%20%7B%22maxZoom%22%3A%2012%7D%0A%20%20%20%20%20%20%20%20%20%20%20%20%29%3B%0A%20%20%20%20%20%20%20%20%0A%20%20%20%20%0A%20%20%20%20%20%20%20%20%20%20%20%20var%20tile_layer_0f089dd3e6a24f65b3b6a006bf1d593c%20%3D%20L.tileLayer%28%0A%20%20%20%20%20%20%20%20%20%20%20%20%20%20%20%20%22https%3A//earthengine.googleapis.com/v1alpha/projects/earthengine-legacy/maps/e051dcf5c8939b8fed3bfccb425d0e63-009aff126b6caf28cb5f6bebea652dad/tiles/%7Bz%7D/%7Bx%7D/%7By%7D%22%2C%0A%20%20%20%20%20%20%20%20%20%20%20%20%20%20%20%20%7B%22attribution%22%3A%20%22Google%20Earth%20Engine%22%2C%20%22detectRetina%22%3A%20false%2C%20%22maxNativeZoom%22%3A%2018%2C%20%22maxZoom%22%3A%2018%2C%20%22minZoom%22%3A%200%2C%20%22noWrap%22%3A%20false%2C%20%22opacity%22%3A%200.5%2C%20%22subdomains%22%3A%20%22abc%22%2C%20%22tms%22%3A%20false%7D%0A%20%20%20%20%20%20%20%20%20%20%20%20%29.addTo%28map_26cf519a2da54c1eb96db91fbad68641%29%3B%0A%20%20%20%20%20%20%20%20%0A%20%20%20%20%0A%20%20%20%20%20%20%20%20%20%20%20%20var%20tile_layer_376548613fa14818a6f02effd3795b66%20%3D%20L.tileLayer%28%0A%20%20%20%20%20%20%20%20%20%20%20%20%20%20%20%20%22https%3A//earthengine.googleapis.com/v1alpha/projects/earthengine-legacy/maps/014b17fb29155d5af04150948487ef6f-3035efb0e3c7e6d3969045b040f39959/tiles/%7Bz%7D/%7Bx%7D/%7By%7D%22%2C%0A%20%20%20%20%20%20%20%20%20%20%20%20%20%20%20%20%7B%22attribution%22%3A%20%22Google%20Earth%20Engine%22%2C%20%22detectRetina%22%3A%20false%2C%20%22maxNativeZoom%22%3A%2018%2C%20%22maxZoom%22%3A%2018%2C%20%22minZoom%22%3A%200%2C%20%22noWrap%22%3A%20false%2C%20%22opacity%22%3A%200.5%2C%20%22subdomains%22%3A%20%22abc%22%2C%20%22tms%22%3A%20false%7D%0A%20%20%20%20%20%20%20%20%20%20%20%20%29.addTo%28map_26cf519a2da54c1eb96db91fbad68641%29%3B%0A%20%20%20%20%20%20%20%20%0A%20%20%20%20%0A%20%20%20%20%20%20%20%20%20%20%20%20var%20tile_layer_b4f5e71999e6406a8a557218d1ce1dfe%20%3D%20L.tileLayer%28%0A%20%20%20%20%20%20%20%20%20%20%20%20%20%20%20%20%22https%3A//earthengine.googleapis.com/v1alpha/projects/earthengine-legacy/maps/de9db01af3cd0d3a731e958688b03dcd-41b363c2520bc9b3b918c210d909790b/tiles/%7Bz%7D/%7Bx%7D/%7By%7D%22%2C%0A%20%20%20%20%20%20%20%20%20%20%20%20%20%20%20%20%7B%22attribution%22%3A%20%22Google%20Earth%20Engine%22%2C%20%22detectRetina%22%3A%20false%2C%20%22maxNativeZoom%22%3A%2018%2C%20%22maxZoom%22%3A%2018%2C%20%22minZoom%22%3A%200%2C%20%22noWrap%22%3A%20false%2C%20%22opacity%22%3A%200.5%2C%20%22subdomains%22%3A%20%22abc%22%2C%20%22tms%22%3A%20false%7D%0A%20%20%20%20%20%20%20%20%20%20%20%20%29.addTo%28map_26cf519a2da54c1eb96db91fbad68641%29%3B%0A%20%20%20%20%20%20%20%20%0A%20%20%20%20%0A%20%20%20%20%20%20%20%20%20%20%20%20var%20tile_layer_8c3fb432ac5749c3b94eb346ade4e1a7%20%3D%20L.tileLayer%28%0A%20%20%20%20%20%20%20%20%20%20%20%20%20%20%20%20%22https%3A//earthengine.googleapis.com/v1alpha/projects/earthengine-legacy/maps/41b8cc93d3f4c68b6e68eded53d6fbd8-93eae05d381f03b0c3a31cb98b278646/tiles/%7Bz%7D/%7Bx%7D/%7By%7D%22%2C%0A%20%20%20%20%20%20%20%20%20%20%20%20%20%20%20%20%7B%22attribution%22%3A%20%22Google%20Earth%20Engine%22%2C%20%22detectRetina%22%3A%20false%2C%20%22maxNativeZoom%22%3A%2018%2C%20%22maxZoom%22%3A%2018%2C%20%22minZoom%22%3A%200%2C%20%22noWrap%22%3A%20false%2C%20%22opacity%22%3A%200.6%2C%20%22subdomains%22%3A%20%22abc%22%2C%20%22tms%22%3A%20false%7D%0A%20%20%20%20%20%20%20%20%20%20%20%20%29.addTo%28map_26cf519a2da54c1eb96db91fbad68641%29%3B%0A%20%20%20%20%20%20%20%20%0A%20%20%20%20%0A%20%20%20%20%20%20%20%20%20%20%20%20var%20tile_layer_41f17173ef354ee8bb14c1d3f6cde73c%20%3D%20L.tileLayer%28%0A%20%20%20%20%20%20%20%20%20%20%20%20%20%20%20%20%22https%3A//earthengine.googleapis.com/v1alpha/projects/earthengine-legacy/maps/f7682fd6048135b228fd06e383d6fb21-00e5410df72008e9e114970b1fc091b3/tiles/%7Bz%7D/%7Bx%7D/%7By%7D%22%2C%0A%20%20%20%20%20%20%20%20%20%20%20%20%20%20%20%20%7B%22attribution%22%3A%20%22Google%20Earth%20Engine%22%2C%20%22detectRetina%22%3A%20false%2C%20%22maxNativeZoom%22%3A%2018%2C%20%22maxZoom%22%3A%2018%2C%20%22minZoom%22%3A%200%2C%20%22noWrap%22%3A%20false%2C%20%22opacity%22%3A%200.6%2C%20%22subdomains%22%3A%20%22abc%22%2C%20%22tms%22%3A%20false%7D%0A%20%20%20%20%20%20%20%20%20%20%20%20%29.addTo%28map_26cf519a2da54c1eb96db91fbad68641%29%3B%0A%20%20%20%20%20%20%20%20%0A%20%20%20%20%0A%20%20%20%20%20%20%20%20%20%20%20%20var%20tile_layer_13736e01b7074391a763470a390f0b69%20%3D%20L.tileLayer%28%0A%20%20%20%20%20%20%20%20%20%20%20%20%20%20%20%20%22https%3A//earthengine.googleapis.com/v1alpha/projects/earthengine-legacy/maps/04b759def320b0937bb0dce242bea490-ea28d6c666468b2e405f19b5233aeed3/tiles/%7Bz%7D/%7Bx%7D/%7By%7D%22%2C%0A%20%20%20%20%20%20%20%20%20%20%20%20%20%20%20%20%7B%22attribution%22%3A%20%22Google%20Earth%20Engine%22%2C%20%22detectRetina%22%3A%20false%2C%20%22maxNativeZoom%22%3A%2018%2C%20%22maxZoom%22%3A%2018%2C%20%22minZoom%22%3A%200%2C%20%22noWrap%22%3A%20false%2C%20%22opacity%22%3A%200.6%2C%20%22subdomains%22%3A%20%22abc%22%2C%20%22tms%22%3A%20false%7D%0A%20%20%20%20%20%20%20%20%20%20%20%20%29.addTo%28map_26cf519a2da54c1eb96db91fbad68641%29%3B%0A%20%20%20%20%20%20%20%20%0A%20%20%20%20%0A%20%20%20%20%20%20%20%20%20%20%20%20var%20tile_layer_2fc02caef3e94188979d6a73e427560f%20%3D%20L.tileLayer%28%0A%20%20%20%20%20%20%20%20%20%20%20%20%20%20%20%20%22https%3A//earthengine.googleapis.com/v1alpha/projects/earthengine-legacy/maps/0ead8a643d51550f25d83650ede6ba21-a1c90dc33e101f59af3e42a19c461e21/tiles/%7Bz%7D/%7Bx%7D/%7By%7D%22%2C%0A%20%20%20%20%20%20%20%20%20%20%20%20%20%20%20%20%7B%22attribution%22%3A%20%22Google%20Earth%20Engine%22%2C%20%22detectRetina%22%3A%20false%2C%20%22maxNativeZoom%22%3A%2018%2C%20%22maxZoom%22%3A%2018%2C%20%22minZoom%22%3A%200%2C%20%22noWrap%22%3A%20false%2C%20%22opacity%22%3A%200.6%2C%20%22subdomains%22%3A%20%22abc%22%2C%20%22tms%22%3A%20false%7D%0A%20%20%20%20%20%20%20%20%20%20%20%20%29.addTo%28map_26cf519a2da54c1eb96db91fbad68641%29%3B%0A%20%20%20%20%20%20%20%20%0A%20%20%20%20%0A%20%20%20%20%20%20%20%20%20%20%20%20var%20tile_layer_0c609e66c1e34cd4b504b9b0e727ad0f%20%3D%20L.tileLayer%28%0A%20%20%20%20%20%20%20%20%20%20%20%20%20%20%20%20%22https%3A//earthengine.googleapis.com/v1alpha/projects/earthengine-legacy/maps/1d3453772f862fdd209d750c34fedb99-6a450aec90a697bdafb3a0eb8e05f92c/tiles/%7Bz%7D/%7Bx%7D/%7By%7D%22%2C%0A%20%20%20%20%20%20%20%20%20%20%20%20%20%20%20%20%7B%22attribution%22%3A%20%22Google%20Earth%20Engine%22%2C%20%22detectRetina%22%3A%20false%2C%20%22maxNativeZoom%22%3A%2018%2C%20%22maxZoom%22%3A%2018%2C%20%22minZoom%22%3A%200%2C%20%22noWrap%22%3A%20false%2C%20%22opacity%22%3A%201.0%2C%20%22subdomains%22%3A%20%22abc%22%2C%20%22tms%22%3A%20false%7D%0A%20%20%20%20%20%20%20%20%20%20%20%20%29.addTo%28map_26cf519a2da54c1eb96db91fbad68641%29%3B%0A%20%20%20%20%20%20%20%20%0A%20%20%20%20%0A%20%20%20%20%20%20%20%20%20%20%20%20var%20tile_layer_c5d5b5c7c92447428d418b225c9dd78b%20%3D%20L.tileLayer%28%0A%20%20%20%20%20%20%20%20%20%20%20%20%20%20%20%20%22https%3A//earthengine.googleapis.com/v1alpha/projects/earthengine-legacy/maps/eea0d9b86e3d42bfb1e13efca69d2a77-e1a5a6cea7123069c1f090e393911cfd/tiles/%7Bz%7D/%7Bx%7D/%7By%7D%22%2C%0A%20%20%20%20%20%20%20%20%20%20%20%20%20%20%20%20%7B%22attribution%22%3A%20%22Google%20Earth%20Engine%22%2C%20%22detectRetina%22%3A%20false%2C%20%22maxNativeZoom%22%3A%2018%2C%20%22maxZoom%22%3A%2018%2C%20%22minZoom%22%3A%200%2C%20%22noWrap%22%3A%20false%2C%20%22opacity%22%3A%201.0%2C%20%22subdomains%22%3A%20%22abc%22%2C%20%22tms%22%3A%20false%7D%0A%20%20%20%20%20%20%20%20%20%20%20%20%29.addTo%28map_26cf519a2da54c1eb96db91fbad68641%29%3B%0A%20%20%20%20%20%20%20%20%0A%20%20%20%20%0A%20%20%20%20%20%20%20%20%20%20%20%20var%20tile_layer_9c7fe8fb5a0347b0a8dc84dc6e4bbda8%20%3D%20L.tileLayer%28%0A%20%20%20%20%20%20%20%20%20%20%20%20%20%20%20%20%22https%3A//earthengine.googleapis.com/v1alpha/projects/earthengine-legacy/maps/fb3a092086676b533b4b56a4b1b8d78c-0064d96e5a25496196e06fe8f83d808d/tiles/%7Bz%7D/%7Bx%7D/%7By%7D%22%2C%0A%20%20%20%20%20%20%20%20%20%20%20%20%20%20%20%20%7B%22attribution%22%3A%20%22Google%20Earth%20Engine%22%2C%20%22detectRetina%22%3A%20false%2C%20%22maxNativeZoom%22%3A%2018%2C%20%22maxZoom%22%3A%2018%2C%20%22minZoom%22%3A%200%2C%20%22noWrap%22%3A%20false%2C%20%22opacity%22%3A%201.0%2C%20%22subdomains%22%3A%20%22abc%22%2C%20%22tms%22%3A%20false%7D%0A%20%20%20%20%20%20%20%20%20%20%20%20%29.addTo%28map_26cf519a2da54c1eb96db91fbad68641%29%3B%0A%20%20%20%20%20%20%20%20%0A%20%20%20%20%0A%20%20%20%20%20%20%20%20%20%20%20%20var%20tile_layer_448b45a9317e4073ba019a908821adba%20%3D%20L.tileLayer%28%0A%20%20%20%20%20%20%20%20%20%20%20%20%20%20%20%20%22https%3A//earthengine.googleapis.com/v1alpha/projects/earthengine-legacy/maps/dd7b1458694767d1ad94854221e7f04f-7374e27c732df9c59ea36a7d35eadc79/tiles/%7Bz%7D/%7Bx%7D/%7By%7D%22%2C%0A%20%20%20%20%20%20%20%20%20%20%20%20%20%20%20%20%7B%22attribution%22%3A%20%22Google%20Earth%20Engine%22%2C%20%22detectRetina%22%3A%20false%2C%20%22maxNativeZoom%22%3A%2018%2C%20%22maxZoom%22%3A%2018%2C%20%22minZoom%22%3A%200%2C%20%22noWrap%22%3A%20false%2C%20%22opacity%22%3A%201.0%2C%20%22subdomains%22%3A%20%22abc%22%2C%20%22tms%22%3A%20false%7D%0A%20%20%20%20%20%20%20%20%20%20%20%20%29.addTo%28map_26cf519a2da54c1eb96db91fbad68641%29%3B%0A%20%20%20%20%20%20%20%20%0A%20%20%20%20%0A%20%20%20%20%20%20%20%20%20%20%20%20var%20tile_layer_d5188b2e3e1e4ed7a3ec31db7b8ccae1%20%3D%20L.tileLayer%28%0A%20%20%20%20%20%20%20%20%20%20%20%20%20%20%20%20%22https%3A//earthengine.googleapis.com/v1alpha/projects/earthengine-legacy/maps/049f47cb3d1f87bb03a446dd7088c471-1bedb5247c06ff3ed9dc23b1afd9325d/tiles/%7Bz%7D/%7Bx%7D/%7By%7D%22%2C%0A%20%20%20%20%20%20%20%20%20%20%20%20%20%20%20%20%7B%22attribution%22%3A%20%22Google%20Earth%20Engine%22%2C%20%22detectRetina%22%3A%20false%2C%20%22maxNativeZoom%22%3A%2018%2C%20%22maxZoom%22%3A%2018%2C%20%22minZoom%22%3A%200%2C%20%22noWrap%22%3A%20false%2C%20%22opacity%22%3A%201.0%2C%20%22subdomains%22%3A%20%22abc%22%2C%20%22tms%22%3A%20false%7D%0A%20%20%20%20%20%20%20%20%20%20%20%20%29.addTo%28map_26cf519a2da54c1eb96db91fbad68641%29%3B%0A%20%20%20%20%20%20%20%20%0A%20%20%20%20%0A%20%20%20%20%20%20%20%20%20%20%20%20var%20tile_layer_8d250e496c214f58b466e8a5b1970a0d%20%3D%20L.tileLayer%28%0A%20%20%20%20%20%20%20%20%20%20%20%20%20%20%20%20%22https%3A//earthengine.googleapis.com/v1alpha/projects/earthengine-legacy/maps/8d8b73ae3a6aa32be5f13e694c089e98-c3b1fa3b838746b8f9a580537b916499/tiles/%7Bz%7D/%7Bx%7D/%7By%7D%22%2C%0A%20%20%20%20%20%20%20%20%20%20%20%20%20%20%20%20%7B%22attribution%22%3A%20%22Google%20Earth%20Engine%22%2C%20%22detectRetina%22%3A%20false%2C%20%22maxNativeZoom%22%3A%2018%2C%20%22maxZoom%22%3A%2018%2C%20%22minZoom%22%3A%200%2C%20%22noWrap%22%3A%20false%2C%20%22opacity%22%3A%201.0%2C%20%22subdomains%22%3A%20%22abc%22%2C%20%22tms%22%3A%20false%7D%0A%20%20%20%20%20%20%20%20%20%20%20%20%29.addTo%28map_26cf519a2da54c1eb96db91fbad68641%29%3B%0A%20%20%20%20%20%20%20%20%0A%20%20%20%20%0A%20%20%20%20%20%20%20%20%20%20%20%20var%20layer_control_50902314933c4d2eb7d1c202c8707983%20%3D%20%7B%0A%20%20%20%20%20%20%20%20%20%20%20%20%20%20%20%20base_layers%20%3A%20%7B%0A%20%20%20%20%20%20%20%20%20%20%20%20%20%20%20%20%20%20%20%20%22openstreetmap%22%20%3A%20tile_layer_9ed3e4b0275a41ee9e09088f744f48d0%2C%0A%20%20%20%20%20%20%20%20%20%20%20%20%20%20%20%20%7D%2C%0A%20%20%20%20%20%20%20%20%20%20%20%20%20%20%20%20overlays%20%3A%20%20%7B%0A%20%20%20%20%20%20%20%20%20%20%20%20%20%20%20%20%20%20%20%20%22Google%20Maps%22%20%3A%20tile_layer_bf2b73ddf15f4ebf94c4facc30df7107%2C%0A%20%20%20%20%20%20%20%20%20%20%20%20%20%20%20%20%20%20%20%20%22VIIRS-DNB%20Nightlights%22%20%3A%20tile_layer_0f089dd3e6a24f65b3b6a006bf1d593c%2C%0A%20%20%20%20%20%20%20%20%20%20%20%20%20%20%20%20%20%20%20%20%22GHSL%20Degree%20of%20Urbanization%22%20%3A%20tile_layer_376548613fa14818a6f02effd3795b66%2C%0A%20%20%20%20%20%20%20%20%20%20%20%20%20%20%20%20%20%20%20%20%22GHSL%20Population%22%20%3A%20tile_layer_b4f5e71999e6406a8a557218d1ce1dfe%2C%0A%20%20%20%20%20%20%20%20%20%20%20%20%20%20%20%20%20%20%20%20%22SRTM%20Elevation%22%20%3A%20tile_layer_8c3fb432ac5749c3b94eb346ade4e1a7%2C%0A%20%20%20%20%20%20%20%20%20%20%20%20%20%20%20%20%20%20%20%20%22JRC%20Water%20Prevalence%22%20%3A%20tile_layer_41f17173ef354ee8bb14c1d3f6cde73c%2C%0A%20%20%20%20%20%20%20%20%20%20%20%20%20%20%20%20%20%20%20%20%22BD%20Poverty%3A%20Income%22%20%3A%20tile_layer_13736e01b7074391a763470a390f0b69%2C%0A%20%20%20%20%20%20%20%20%20%20%20%20%20%20%20%20%20%20%20%20%22BD%20cPoverty%3A%20Wealth%20Index%22%20%3A%20tile_layer_2fc02caef3e94188979d6a73e427560f%2C%0A%20%20%20%20%20%20%20%20%20%20%20%20%20%20%20%20%20%20%20%20%22UPPR%3A%20Extremely%20Poor%22%20%3A%20tile_layer_0c609e66c1e34cd4b504b9b0e727ad0f%2C%0A%20%20%20%20%20%20%20%20%20%20%20%20%20%20%20%20%20%20%20%20%22UPPR%3A%20Marginally%20Poor%22%20%3A%20tile_layer_c5d5b5c7c92447428d418b225c9dd78b%2C%0A%20%20%20%20%20%20%20%20%20%20%20%20%20%20%20%20%20%20%20%20%22UPPR%3A%20Moderately%20Poor%22%20%3A%20tile_layer_9c7fe8fb5a0347b0a8dc84dc6e4bbda8%2C%0A%20%20%20%20%20%20%20%20%20%20%20%20%20%20%20%20%20%20%20%20%22UPPR%3A%20Very%20Poor%22%20%3A%20tile_layer_448b45a9317e4073ba019a908821adba%2C%0A%20%20%20%20%20%20%20%20%20%20%20%20%20%20%20%20%20%20%20%20%22UPPR%3A%20Vacant%20Land%22%20%3A%20tile_layer_d5188b2e3e1e4ed7a3ec31db7b8ccae1%2C%0A%20%20%20%20%20%20%20%20%20%20%20%20%20%20%20%20%20%20%20%20%22UPPR%3A%20Single%20Poor%20HH%22%20%3A%20tile_layer_8d250e496c214f58b466e8a5b1970a0d%2C%0A%20%20%20%20%20%20%20%20%20%20%20%20%20%20%20%20%7D%2C%0A%20%20%20%20%20%20%20%20%20%20%20%20%7D%3B%0A%20%20%20%20%20%20%20%20%20%20%20%20L.control.layers%28%0A%20%20%20%20%20%20%20%20%20%20%20%20%20%20%20%20layer_control_50902314933c4d2eb7d1c202c8707983.base_layers%2C%0A%20%20%20%20%20%20%20%20%20%20%20%20%20%20%20%20layer_control_50902314933c4d2eb7d1c202c8707983.overlays%2C%0A%20%20%20%20%20%20%20%20%20%20%20%20%20%20%20%20%7B%22autoZIndex%22%3A%20true%2C%20%22collapsed%22%3A%20true%2C%20%22position%22%3A%20%22topright%22%7D%0A%20%20%20%20%20%20%20%20%20%20%20%20%29.addTo%28map_26cf519a2da54c1eb96db91fbad68641%29%3B%0A%20%20%20%20%20%20%20%20%0A%3C/script%3E onload=\"this.contentDocument.open();this.contentDocument.write(    decodeURIComponent(this.getAttribute('data-html')));this.contentDocument.close();\" allowfullscreen webkitallowfullscreen mozallowfullscreen></iframe></div></div>"
      ],
      "text/plain": [
       "<geemap.eefolium.Map at 0x143e55b80>"
      ]
     },
     "execution_count": 21,
     "metadata": {},
     "output_type": "execute_result"
    }
   ],
   "source": [
    "#AOI: Satkhira District (Khulna Division)\n",
    "aoi = ee.Geometry.MultiPolygon(shp_to_ee_fmt(city = 'Sirajganj', level = 3))\n",
    "\n",
    "# initialize the map\n",
    "map2 = geemap.Map()\n",
    "map2.centerObject(aoi, 12)\n",
    "map2.addLayer(viirs.clip(aoi), {}, \"VIIRS-DNB Nightlights\", opacity=0.5)\n",
    "map2.addLayer(ghslSet.clip(aoi), ghslSetVis, 'GHSL Degree of Urbanization', opacity=0.5)\n",
    "map2.addLayer(ghslPop.clip(aoi), ghslPopVis, 'GHSL Population', opacity=0.5)\n",
    "map2.addLayer(srtm.clip(aoi), {'min':5, 'max':25}, 'SRTM Elevation', opacity = 0.6)\n",
    "map2.addLayer(water.clip(aoi), waterVis, 'JRC Water Prevalence', opacity = 0.6)\n",
    "map2.addLayer(pov_inc.clip(aoi), {'min':120, 'max':210, \"palette\":['red', 'yellow']}, \"BD Poverty: Income\", opacity=0.6)\n",
    "map2.addLayer(pov_wi.clip(aoi), {'min':-0.75, 'max':1.1, \"palette\":['red', 'yellow']}, \"BD cPoverty: Wealth Index\", opacity=0.6)\n",
    "#Extremely Poor\n",
    "vis_params.update({\"fillColor\": \"E30B17AA\"})\n",
    "map2.addLayer(p1.style(**vis_params), vis_params, 'UPPR: Extremely Poor')\n",
    "#Marginally poor\n",
    "vis_params.update({\"fillColor\": \"CCCCCCAA\"})\n",
    "map2.addLayer(p2.style(**vis_params), vis_params, 'UPPR: Marginally Poor')\n",
    "#Moderately Poor\n",
    "vis_params.update({\"fillColor\": \"FEEAC0AA\"})\n",
    "map2.addLayer(p3.style(**vis_params), vis_params, 'UPPR: Moderately Poor')\n",
    "#Very Poor\n",
    "vis_params.update({\"fillColor\": \"FDA883AA\"})\n",
    "map2.addLayer(p4.style(**vis_params), vis_params, 'UPPR: Very Poor')\n",
    "vis_params.update({\"fillColor\": \"729b6fAA\"})\n",
    "map2.addLayer(uppr_land.style(**vis_params), vis_params, 'UPPR: Vacant Land')\n",
    "map2.addLayer(uppr_single, {'color': 'blue',}, 'UPPR: Single Poor HH')\n",
    "map2.addLayerControl()\n",
    "map2"
   ]
  },
  {
   "cell_type": "code",
   "execution_count": 22,
   "id": "e08a5b64",
   "metadata": {
    "scrolled": false
   },
   "outputs": [
    {
     "data": {
      "text/markdown": [
       "Publishing document and associated data - *please wait...*"
      ],
      "text/plain": [
       "<IPython.core.display.Markdown object>"
      ]
     },
     "metadata": {},
     "output_type": "display_data"
    },
    {
     "data": {
      "text/markdown": [
       "Your report doesn't contain any text - did you know you can add text to your report from your browser once published?"
      ],
      "text/plain": [
       "<IPython.core.display.Markdown object>"
      ]
     },
     "metadata": {},
     "output_type": "display_data"
    },
    {
     "data": {
      "text/markdown": [
       "Your report only contains a single element - did you know you can add multiple plots and tables to a report, add text to it and export directly to Medium once published?"
      ],
      "text/plain": [
       "<IPython.core.display.Markdown object>"
      ]
     },
     "metadata": {},
     "output_type": "display_data"
    },
    {
     "data": {
      "text/markdown": [
       "Report successfully published at https://datapane.com/u/mtyrrell/reports/sirajganj-municipal-multi-layer/ - you can edit and add additional text online"
      ],
      "text/plain": [
       "<IPython.core.display.Markdown object>"
      ]
     },
     "metadata": {},
     "output_type": "display_data"
    }
   ],
   "source": [
    "map2.publish(name='Sirajganj Municipal: Multi Layer', description='Sirajganj GAUL Level 3 with VIIRS, GHSL, Topo, Water & Poverty', visibility='PUBLIC')"
   ]
  }
 ],
 "metadata": {
  "kernelspec": {
   "display_name": "Python (gee)",
   "language": "python",
   "name": "pub"
  },
  "language_info": {
   "codemirror_mode": {
    "name": "ipython",
    "version": 3
   },
   "file_extension": ".py",
   "mimetype": "text/x-python",
   "name": "python",
   "nbconvert_exporter": "python",
   "pygments_lexer": "ipython3",
   "version": "3.9.5"
  }
 },
 "nbformat": 4,
 "nbformat_minor": 5
}
